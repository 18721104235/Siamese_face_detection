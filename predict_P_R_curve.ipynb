{
 "cells": [
  {
   "cell_type": "code",
   "execution_count": 90,
   "metadata": {},
   "outputs": [
    {
     "data": {
      "text/plain": [
       "\"\\n1. 针对有偏数据集（负样本对远大于正样本对）\\n除accuray指标外，还可以采用precision_score,recall_score,f1_score来更加精确的反应模型训练效果\\n\\n2. 在判断样本对是否是正样本对时，我们可以尝试使用不同的阈值来预测模型准确率\\ndef compute_accuracy(y_true, y_pred,threshold):\\n    pred = y_pred.ravel() < threshold\\n    print('pred:', pred)\\n    return np.mean(pred == y_true)\\n\\t\\n3. 以下代码将实现以下功能：\\na. 使用model.predict_generator进行结果预测\\nb. 尝试在不同的阈值下，绘制模型precision_score,recall_score,f1_score\\n\""
      ]
     },
     "execution_count": 90,
     "metadata": {},
     "output_type": "execute_result"
    }
   ],
   "source": [
    "'''\n",
    "1. 针对有偏数据集（负样本对远大于正样本对）\n",
    "除accuray指标外，还可以采用precision_score,recall_score,f1_score来更加精确的反应模型训练效果\n",
    "\n",
    "2. 在判断样本对是否是正样本对时，我们可以尝试使用不同的阈值来预测模型准确率\n",
    "def compute_accuracy(y_true, y_pred,threshold):\n",
    "    pred = y_pred.ravel() < threshold\n",
    "    print('pred:', pred)\n",
    "    return np.mean(pred == y_true)\n",
    "\t\n",
    "3. 以下代码将实现以下功能：\n",
    "a. 使用model.predict_generator进行结果预测\n",
    "b. 尝试在不同的阈值下，绘制模型precision_score,recall_score,f1_score\n",
    "'''"
   ]
  },
  {
   "cell_type": "code",
   "execution_count": 1,
   "metadata": {},
   "outputs": [
    {
     "name": "stderr",
     "output_type": "stream",
     "text": [
      "Using TensorFlow backend.\n"
     ]
    }
   ],
   "source": [
    "import os\n",
    "import cv2\n",
    "import csv\n",
    "import tensorflow as tf\n",
    "import numpy as np\n",
    "import pandas as pd\n",
    "import random\n",
    "from keras import backend as K\n",
    "from keras.preprocessing.image import img_to_array\n",
    "from keras.optimizers import SGD,RMSprop\n",
    "from keras.models import Model, Sequential,load_model\n",
    "from keras.layers import Input,Concatenate, Add,Subtract,Lambda\n",
    "from keras.callbacks import EarlyStopping, ModelCheckpoint\n",
    "from keras.optimizers import Adam,RMSprop,SGD"
   ]
  },
  {
   "cell_type": "code",
   "execution_count": 92,
   "metadata": {},
   "outputs": [],
   "source": [
    "#set GPU to memory-growth mode\n",
    "\n",
    "gpus = tf.config.experimental.list_physical_devices(device_type='GPU')\n",
    "for gpu in gpus:\n",
    "    tf.config.experimental.set_memory_growth(gpu, True)"
   ]
  },
  {
   "cell_type": "code",
   "execution_count": 91,
   "metadata": {},
   "outputs": [],
   "source": [
    "#define threshold_train\n",
    "#images_paths='/root/tf-2.0/Siamese_Face_Detection/data/FaceV5_160_train.csv'\n",
    "#images_data=pd.read_csv(images_paths)[:50000]\n",
    "#images_data.to_csv('/root/tf-2.0/Siamese_Face_Detection/data/threshold_train.csv',index=None,header=None)\n",
    "\n",
    "train_threshold_path='/root/tf-2.0/Siamese_Face_Detection/data/threshold_train.csv'\n",
    "images_data=pd.read_csv(train_threshold_path,header=None)\n",
    "images_data.columns=['pair1','pair2','labels']\n",
    "labels=images_data['labels']\n",
    "#labels[:10]"
   ]
  },
  {
   "cell_type": "code",
   "execution_count": 3,
   "metadata": {},
   "outputs": [],
   "source": [
    "#define images generator\n",
    "\n",
    "def processImg(filename,h,w):\n",
    "    \"\"\"\n",
    "    :param filename: 图像的路径\n",
    "    :return: 返回的是归一化矩阵\n",
    "    \"\"\"\n",
    "    height=h\n",
    "    width=w\n",
    "\n",
    "    img = cv2.imread(filename)\n",
    "    img = cv2.resize(img, (height, width))\n",
    "    img = cv2.cvtColor(img, cv2.COLOR_BGR2RGB)\n",
    "    img = img_to_array(img)\n",
    "    img /= 255.\n",
    "    return img\n",
    "\n",
    "def generator(imgs, batch_size,input_shape):\n",
    "    \"\"\"\n",
    "    自定义迭代器\n",
    "    :param imgs: 列表，每个包含一对图片矩阵\n",
    "    :param batch_size:\n",
    "    :return:\n",
    "    \"\"\"\n",
    "    h,w,c=input_shape\n",
    "    while 1:\n",
    "        li = imgs[:batch_size]\n",
    "        pairs = []\n",
    "        for i in li:\n",
    "            img1 = i[0]\n",
    "            img2 = i[1]\n",
    "            im1 = cv2.imread(img1)\n",
    "            im2 = cv2.imread(img2)\n",
    "            if im1 is None or im2 is None:\n",
    "                continue\n",
    "            img1 = processImg(img1,h=h,w=w)\n",
    "            img2 = processImg(img2,h=h,w=w)\n",
    "            pairs.append([img1, img2])\n",
    "        pairs = np.array(pairs)\n",
    "        yield [pairs[:, 0], pairs[:, 1]]"
   ]
  },
  {
   "cell_type": "code",
   "execution_count": 6,
   "metadata": {},
   "outputs": [],
   "source": [
    "input_shape=(160,160,3)\n",
    "batch_size=20\n",
    "\n",
    "rows_test=csv.reader(open(train_threshold_path, 'r'), delimiter=',')\n",
    "imgs_test = list(rows_test)\n",
    "steps=len(imgs_test)//batch_size\n",
    "## define image pair generator\n",
    "test_data=generator(imgs_test,batch_size,input_shape)"
   ]
  },
  {
   "cell_type": "code",
   "execution_count": 7,
   "metadata": {},
   "outputs": [],
   "source": [
    "# calculate loss\n",
    "def contrastive_loss(y_true, y_pred):\n",
    "    margin = 1\n",
    "    square_pred = K.square(y_pred)\n",
    "    margin_square = K.square(K.maximum(margin - y_pred, 0))\n",
    "    return K.mean(y_true * square_pred + (1 - y_true) * margin_square)\n",
    "\n",
    "Siamese_softmax_model=load_model('/root/tf-2.0/Siamese_Face_Detection/h5/Siamese_softmax_02.h5',\n",
    "                                 custom_objects={'contrastive_loss':contrastive_loss})"
   ]
  },
  {
   "cell_type": "code",
   "execution_count": 8,
   "metadata": {},
   "outputs": [
    {
     "name": "stdout",
     "output_type": "stream",
     "text": [
      "2500/2500 [==============================] - 676s 270ms/step\n"
     ]
    }
   ],
   "source": [
    "y_pred=Siamese_softmax_model.predict_generator(test_data,steps=steps,verbose=1)"
   ]
  },
  {
   "cell_type": "code",
   "execution_count": 19,
   "metadata": {},
   "outputs": [
    {
     "name": "stdout",
     "output_type": "stream",
     "text": [
      "[0.31549463] [1.8420728]\n"
     ]
    }
   ],
   "source": [
    "#y_predict=pd.DataFrame(y_pred)\n",
    "#y_predict.to_csv('/root/tf-2.0/Siamese_Face_Detection/data/predict.csv',header=None,index=None)\n",
    "\n",
    "min_threshold=min(y_pred)\n",
    "max_threshold=max(y_pred)\n",
    "print(min_threshold,max_threshold)"
   ]
  },
  {
   "cell_type": "code",
   "execution_count": 67,
   "metadata": {},
   "outputs": [],
   "source": [
    "from sklearn.metrics import precision_score,recall_score,f1_score\n",
    "import numpy as np\n",
    "\n",
    "y_true=list(labels)\n",
    "precision=[]\n",
    "recall=[]\n",
    "f1_score=[]\n",
    "accuracy=[]\n",
    "thresholds=np.arange(0.4,1.5,0.02)\n",
    "\n",
    "def compute_prediction(y_pred,threshold):\n",
    "    pred = y_pred.ravel() < threshold\n",
    "    #pred=int(pred)\n",
    "    return list(pred.astype(np.int32))"
   ]
  },
  {
   "cell_type": "code",
   "execution_count": 68,
   "metadata": {},
   "outputs": [],
   "source": [
    "for threshold in thresholds:\n",
    "    y_prediction=compute_prediction(y_pred,threshold)\n",
    "    p=precision_score(y_true,y_prediction)\n",
    "    r=recall_score(y_true,y_prediction)\n",
    "    f1=2*p*r/(p+r)\n",
    "    a=np.mean(np.array(y_prediction) == np.array(y_true))\n",
    "    precision.append(p)\n",
    "    recall.append(r)\n",
    "    f1_score.append(f1)\n",
    "    accuracy.append(a)"
   ]
  },
  {
   "cell_type": "code",
   "execution_count": 83,
   "metadata": {},
   "outputs": [
    {
     "data": {
      "image/png": "[encoded data removed]",
      "text/plain": [
       "<Figure size 864x576 with 1 Axes>"
      ]
     },
     "metadata": {
      "needs_background": "light"
     },
     "output_type": "display_data"
    }
   ],
   "source": [
    "import matplotlib.pyplot as plt\n",
    "\n",
    "#绘制准确率，召回率，F1_score,accuracy\n",
    "plt.figure(figsize=(12,8))\n",
    "plt.plot(thresholds,precision,'r',label='precision')\n",
    "plt.plot(thresholds,recall,'b',label='recall')\n",
    "plt.plot(thresholds,f1_score,'y',label='f1_score')\n",
    "plt.plot(thresholds,accuracy,'g',label='accuracy')\n",
    "plt.legend()\n",
    "plt.show()"
   ]
  }
 ],
 "metadata": {
  "kernelspec": {
   "display_name": "Python 3",
   "language": "python",
   "name": "python3"
  },
  "language_info": {
   "codemirror_mode": {
    "name": "ipython",
    "version": 3
   },
   "file_extension": ".py",
   "mimetype": "text/x-python",
   "name": "python",
   "nbconvert_exporter": "python",
   "pygments_lexer": "ipython3",
   "version": "3.7.4"
  }
 },
 "nbformat": 4,
 "nbformat_minor": 2
}
